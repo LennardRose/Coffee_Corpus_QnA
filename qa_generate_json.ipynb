{
 "cells": [
  {
   "cell_type": "code",
   "execution_count": 15,
   "metadata": {},
   "outputs": [],
   "source": [
    "import json\n",
    "\n",
    "def gen_json(context_id, context, questions, path=\"\"):\n",
    "    \"\"\"Input context and questions and generate json file for SQuAD format.\n",
    "\n",
    "    Parameters\n",
    "    ----------\n",
    "    context : str\n",
    "        Context of the question.\n",
    "    questions : list of str\n",
    "        List of questions.\n",
    "    \"\"\"\n",
    "    for i, q in enumerate(questions):\n",
    "        dic = {\n",
    "            \"data\": {\n",
    "                \"text\": context,\n",
    "                \"question\": q,\n",
    "            }\n",
    "        }\n",
    "        \n",
    "        with open(f\"{path}qa_{context_id}_{i}.json\", \"w\") as f:\n",
    "            json.dump(dic, f)    "
   ]
  },
  {
   "attachments": {},
   "cell_type": "markdown",
   "metadata": {},
   "source": [
    "### Context 0"
   ]
  },
  {
   "cell_type": "code",
   "execution_count": 16,
   "metadata": {},
   "outputs": [],
   "source": [
    "context_id = 0\n",
    "context = \"The boundary of the region from which no escape is possible is called the event horizon. Although the event horizon has an enormous effect on the fate and circumstances of an object crossing it, according to general relativity it has no locally detectable features.[4] In many ways, a black hole acts like an ideal black body, as it reflects no light.[5][6] Moreover, quantum field theory in curved spacetime predicts that event horizons emit Hawking radiation, with the same spectrum as a black body of a temperature inversely proportional to its mass. This temperature is on the order of billionths of a kelvin for black holes of stellar mass, making it essentially impossible to observe directly.\"\n",
    "questions = [\n",
    "    \"How could black holes be detected?\",\n",
    "    \"What is the event horizon?\",\n",
    "    \"Whats going on?\"\n",
    "]"
   ]
  },
  {
   "cell_type": "code",
   "execution_count": 17,
   "metadata": {},
   "outputs": [],
   "source": [
    "gen_json(context_id, context, questions)"
   ]
  },
  {
   "attachments": {},
   "cell_type": "markdown",
   "metadata": {},
   "source": [
    "### Context 1"
   ]
  },
  {
   "cell_type": "code",
   "execution_count": null,
   "metadata": {},
   "outputs": [],
   "source": [
    "context_id = 1\n",
    "context = \"The boundary of the region from which no escape is possible is called the event horizon. Although the event horizon has an enormous effect on the fate and circumstances of an object crossing it, according to general relativity it has no locally detectable features.[4] In many ways, a black hole acts like an ideal black body, as it reflects no light.[5][6] Moreover, quantum field theory in curved spacetime predicts that event horizons emit Hawking radiation, with the same spectrum as a black body of a temperature inversely proportional to its mass. This temperature is on the order of billionths of a kelvin for black holes of stellar mass, making it essentially impossible to observe directly.\"\n",
    "questions = [\n",
    "    \"How could black holes be detected?\",\n",
    "    \"What is the event horizon?\",\n",
    "    \"Whats going on?\"\n",
    "]"
   ]
  },
  {
   "cell_type": "code",
   "execution_count": null,
   "metadata": {},
   "outputs": [],
   "source": [
    "gen_json(context_id, context, questions)"
   ]
  }
 ],
 "metadata": {
  "kernelspec": {
   "display_name": "venv",
   "language": "python",
   "name": "python3"
  },
  "language_info": {
   "codemirror_mode": {
    "name": "ipython",
    "version": 3
   },
   "file_extension": ".py",
   "mimetype": "text/x-python",
   "name": "python",
   "nbconvert_exporter": "python",
   "pygments_lexer": "ipython3",
   "version": "3.9.0"
  },
  "orig_nbformat": 4,
  "vscode": {
   "interpreter": {
    "hash": "49e59d4ada6e0bef851f1d179af60acc08f1f5b34c75111af743fbd623efd472"
   }
  }
 },
 "nbformat": 4,
 "nbformat_minor": 2
}

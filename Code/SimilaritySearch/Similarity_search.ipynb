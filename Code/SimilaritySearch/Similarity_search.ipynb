{
 "cells": [
  {
   "cell_type": "code",
   "execution_count": 2,
   "metadata": {},
   "outputs": [
    {
     "name": "stderr",
     "output_type": "stream",
     "text": [
      "c:\\Users\\ifeol\\AppData\\Local\\Programs\\Python\\Python39\\lib\\site-packages\\tqdm\\auto.py:22: TqdmWarning: IProgress not found. Please update jupyter and ipywidgets. See https://ipywidgets.readthedocs.io/en/stable/user_install.html\n",
      "  from .autonotebook import tqdm as notebook_tqdm\n",
      "Using custom data configuration default-380d03813620ed62\n",
      "Found cached dataset json (C:/Users/ifeol/.cache/huggingface/datasets/json/default-380d03813620ed62/0.0.0/0f7e3662623656454fcd2b650f34e886a7db4b9104504885bd462096cc7a9f51)\n",
      "100%|██████████| 1/1 [00:00<00:00, 16.39it/s]\n"
     ]
    }
   ],
   "source": [
    "from elasticsearch import Elasticsearch\n",
    "from elasticsearch.exceptions import ConnectionError, NotFoundError\n",
    "from elasticsearch.helpers import bulk\n",
    "import json\n",
    "import pandas as pd\n",
    "import numpy as np\n",
    "import string\n",
    "import random\n",
    "from datasets import load_dataset\n",
    "dataset = load_dataset(\"json\", data_files=\".\\corpus.json\")"
   ]
  },
  {
   "cell_type": "code",
   "execution_count": 15,
   "metadata": {},
   "outputs": [],
   "source": [
    "dataset['train'][3]['products'][0]['languages']['en']"
   ]
  },
  {
   "cell_type": "code",
   "execution_count": null,
   "metadata": {},
   "outputs": [],
   "source": [
    "def unique_id(size):\n",
    "    chars = list(set(string.ascii_lowercase + string.digits).difference('LIO01'))\n",
    "    return ''.join(random.choices(chars, k=size))\n",
    "\n",
    "\n",
    "text = []\n",
    "uid = []\n",
    "\n",
    "for i in range(10):\n",
    "    for j in range(len(dataset['train'][i]['products'])):\n",
    "        if dataset['train'][i]['products'][j]['languages']['en'] is not None:\n",
    "            if len(dataset['train'][i]['products'][j]['languages']['en']) != 0:\n",
    "                for k in range(len(dataset['train'][i]['products'][j]['languages']['en'])):\n",
    "                    paragraphText = dataset['train'][i]['products'][j]['languages']['en'][k]['paragraphText']\n",
    "                    id = dataset['train'][i]['manufacturer'] + '_' + unique_id(5)\n",
    "                    text.append(paragraphText)\n",
    "                    uid.append(id)\n",
    "                    \n",
    "list_ = [uid, text]\n",
    "data = pd.DataFrame(list_).T\n",
    "data.columns= ['uid', 'text']"
   ]
  },
  {
   "cell_type": "code",
   "execution_count": 4,
   "metadata": {},
   "outputs": [],
   "source": [
    "from elastic import Elastic\n",
    "elastic = Elastic()"
   ]
  },
  {
   "cell_type": "code",
   "execution_count": null,
   "metadata": {},
   "outputs": [],
   "source": [
    "elastic.create_index(name=\"coffee\", config_file=\"./index_config.json\")"
   ]
  },
  {
   "cell_type": "code",
   "execution_count": 5,
   "metadata": {},
   "outputs": [
    {
     "name": "stdout",
     "output_type": "stream",
     "text": [
      "WARNING:tensorflow:Please fix your imports. Module tensorflow.python.training.tracking.data_structures has been moved to tensorflow.python.trackable.data_structures. The old module will be deleted in version 2.11.\n"
     ]
    },
    {
     "name": "stderr",
     "output_type": "stream",
     "text": [
      "WARNING:tensorflow:Please fix your imports. Module tensorflow.python.training.tracking.data_structures has been moved to tensorflow.python.trackable.data_structures. The old module will be deleted in version 2.11.\n"
     ]
    },
    {
     "name": "stdout",
     "output_type": "stream",
     "text": [
      "Loaded pre-trained model https://tfhub.dev/tensorflow/small_bert/bert_en_uncased_L-4_H-128_A-2/1 successfully!\n",
      "Loaded pre-trained model https://tfhub.dev/tensorflow/cord-19/swivel-128d/3 successfully!\n"
     ]
    }
   ],
   "source": [
    "from embedders import SwivelEmbedder, BertEmbedder\n",
    "bert = BertEmbedder()\n",
    "swivel = SwivelEmbedder()\n",
    "\n",
    "data['swivel_embedding'] = data['text'].apply(lambda t: swivel.embed_single_text(t)[0].tolist())\n",
    "data['bert_embedding'] = data['text'].apply(lambda t: bert.embed_single_text(t)[0].tolist())"
   ]
  },
  {
   "cell_type": "code",
   "execution_count": 6,
   "metadata": {},
   "outputs": [
    {
     "name": "stdout",
     "output_type": "stream",
     "text": [
      "15\n",
      "{'_op_type': 'index', '_index': 'coffee', 'uid': 'RussellHobbs_xok37', 'swivel_embedding': [-0.346613834746382, 0.43383212806710525, 0.09046593967231623, 0.2010883789415725, 0.17466118542698506, -0.3548303535637184, -0.12373643250010927, 0.3215158644417337, 0.2592890740009963, -0.10295941841778494, 0.20847201664494255, -0.36678626233437883, -0.025673691142456722, -0.3396039323095407, 0.8504860767647274, -0.08153197850005323, 0.6150776049893185, 0.8861813859550424, -0.06888744746297251, -1.1687792345466417, -0.013225535377880284, -0.2481299533468827, -0.24317668110825855, 0.1866749964905303, -0.18321621789026216, 0.7506048365161123, -0.07479529994510403, 0.05845114860859088, -0.27582235459983184, -0.17007055748068411, -0.6834723885836642, -0.7658263594923637, 0.8414153634788942, -0.16503594611959288, -0.02402869929144451, 0.15156943120663713, -0.45229843344421644, 0.41649930812703606, -0.1877804569003607, 0.3422395573658991, -0.528569283476937, -0.13675972552547788, 0.47322842398817583, -0.5287195439168424, -0.296262516959209, 0.19138325026871142, -0.12094344134629013, -0.37581818973753556, -0.16396686590276807, -0.8013713265754105, 0.3087606738868603, -0.433467171469205, 0.5959647410969856, 0.3123718780347725, 0.21863381046557806, 0.45690780104420997, -0.19467097616152534, 1.1093247450537647, 0.5816474569597855, -0.15742153507031234, 0.08656875995889589, -0.8124700932815643, 0.0748518444781322, 0.5248858827993792, 1.3352625182016589, -0.18737944675719723, -0.04373320473928479, 0.2604131936665193, 0.3994853644141106, 2.3690907839044484, -0.05570587747437116, 0.25818607159456247, 1.24378272377864, 0.35260203774050825, 1.8447150016159615, 0.5034876391070635, 0.19940831387476007, -0.6542490361918449, 0.0009282883035045057, -0.1624137094332815, 0.1238681395901818, 0.029682034514808966, -0.41333951850281486, -0.5169154928183143, 0.3035629743007842, -0.12117706181860075, -0.19242928549105212, 0.38132581176433794, 0.9172763289946948, 0.34727344915509084, -0.0036792205242766546, 0.10486057377106336, 0.045006533580183666, -0.7201681840664442, -0.17735293428744128, 0.6103652090482856, 0.8642535266079477, -0.8685286277714053, 0.39414099739329345, -0.42236516413419545, -0.24464215263646216, -0.362444822367497, 0.4540686214127418, -0.5635091931215195, -0.28214182236445473, 0.047660197638172225, 0.07033737089536805, -0.4960569278545679, -2.4165525807461496, -0.12010624595172077, -0.16708453911080431, -0.7403666774850567, -2.5667435476135907, 0.7180309611521692, 0.1969706749915466, 0.9465907173550319, 0.2439304819322982, 0.05789060208388109, -0.16261222111054882, 0.7870581969630276, -0.1626575187427793, 0.5434454103736165, 0.30276936577815183, -0.1883966637760806, -0.25342562910468164, -0.38849858378521246, -0.5942038667988188, 0.8321222115704755], 'bert_embedding': [0.04294547438621521, 0.9841355085372925, 0.683795690536499, -0.23707838356494904, 0.9705348014831543, -0.07645673304796219, 0.10016128420829773, 0.9348110556602478, 0.04039745032787323, 0.7676129937171936, -0.9984845519065857, -0.9278217554092407, 0.9618040919303894, 0.9545028805732727, -0.860081672668457, 0.4033317565917969, -0.6677791476249695, -0.7232451438903809, 0.40102508664131165, -0.9286537170410156, 0.9847212433815002, 0.9770028591156006, 0.5140135288238525, 0.5267246961593628, 0.9703665971755981, 0.8776496052742004, -0.9990381598472595, 0.018518436700105667, -0.17588379979133606, 0.9741809964179993, 0.10994065552949905, 0.882216215133667, -0.6802642941474915, -0.8481542468070984, -0.9978432655334473, 0.324148952960968, 0.22478342056274414, -0.14632923901081085, -0.15805436670780182, 0.3645469844341278, -0.19668205082416534, 0.7785437703132629, 0.5286904573440552, 0.9411033391952515, 0.35839900374412537, 0.9786233901977539, 0.49507227540016174, -0.9671744108200073, -0.10435576736927032, 0.9818243384361267, -0.701640248298645, -0.8189398646354675, -0.2545498013496399, -0.9937279224395752, -0.44741737842559814, -0.2042343020439148, 0.8488874435424805, -0.6778623461723328, 0.9599959254264832, -0.9409992694854736, 0.8644601106643677, 0.059515487402677536, 0.19103218615055084, -0.9996229410171509, 0.037233199924230576, 0.4412212669849396, 0.2767304480075836, 0.9909361004829407, 0.5005480051040649, -0.605780839920044, 0.9508910775184631, 0.9970864057540894, 0.30709949135780334, 0.6798613667488098, 0.9843769669532776, 0.40073341131210327, -0.10682959109544754, -0.06572125107049942, -0.02289414219558239, 0.10693919658660889, 0.8115529417991638, 0.5830932259559631, 0.9971126914024353, 0.6423564553260803, -0.4996193051338196, 0.8582968711853027, -0.9769492745399475, -0.9968224763870239, 0.9962165951728821, -0.23862318694591522, 0.8324018716812134, -0.9939204454421997, -0.9514116048812866, -0.32466500997543335, -0.9987516403198242, -0.9720315933227539, 0.11697954684495926, 0.9580347537994385, -0.3009656071662903, 0.9775753021240234, -0.8683257102966309, 0.9326158165931702, 0.7930351495742798, 0.0039028008468449116, 0.8854982852935791, -0.06829365342855453, 0.9198304414749146, 0.9863703846931458, -0.9459543824195862, 0.9621360898017883, -0.9836331605911255, -0.06533952802419662, 0.8602274060249329, -0.5792227983474731, 0.9807983040809631, -0.8852075338363647, 0.8422384262084961, 0.9153298735618591, -0.06339240819215775, 0.9650804996490479, 0.5956038236618042, -0.9399095177650452, 0.971462070941925, 0.05201956257224083, 0.9989676475524902, 0.9711551070213318, 0.7135966420173645, 0.9680694937705994]}\n"
     ]
    }
   ],
   "source": [
    "data['_op_type'] = \"index\"\n",
    "data['_index'] = \"coffee\"\n",
    "data = data[['_op_type', '_index', 'uid', 'swivel_embedding', 'bert_embedding']]\n",
    "index_data = data.to_dict(orient='records')\n",
    "print(len(index_data))\n",
    "print(index_data[0])"
   ]
  },
  {
   "cell_type": "code",
   "execution_count": 7,
   "metadata": {},
   "outputs": [],
   "source": [
    "elastic.index_documents(index_data)"
   ]
  },
  {
   "cell_type": "code",
   "execution_count": 8,
   "metadata": {},
   "outputs": [],
   "source": [
    "def retrieve(query:str, n_returns:int, index_name: str, embedder='swivel'):\n",
    "    '''\n",
    "    return: 2-D list [['uid': cosine_similarity]], sorted by cosine score descendingly\n",
    "    e.g.[['AEG_h3j5b', 0.963506],\n",
    "         ['Melitta_u2k5s', 0.9492332000000001],\n",
    "         ['Jura_q8g4h', 0.9438302999999999]]\n",
    "    '''\n",
    "    if embedder == 'swivel':\n",
    "        query_vector = swivel.embed_single_text(query)[0].tolist()\n",
    "    elif embedder == 'bert':\n",
    "        query_vector = bert.embed_single_text(query)[0].tolist()\n",
    "    else:\n",
    "        raise ValueError(\"embedder must be either 'swivel' or 'bert'!\")\n",
    "        \n",
    "    script_query = {\n",
    "        \"script_score\": {\n",
    "            \"query\": {\"match_all\": {}},\n",
    "            \"script\": {\n",
    "                \"source\": f\"cosineSimilarity(params.query_vector, '{embedder}_embedding') + 1.0\", # Add 1.0 because ES does not support negative score\n",
    "                \"params\": {\"query_vector\": query_vector}\n",
    "            }\n",
    "        }\n",
    "    }\n",
    "    \n",
    "    response = elastic.search(index_name, script_query, n_returns, list_fields_to_return=[\"uid\"])\n",
    "    \n",
    "    res = []\n",
    "    for hit in response[\"hits\"][\"hits\"]:\n",
    "        res.append([hit[\"_source\"][\"uid\"], hit[\"_score\"] - 1])\n",
    "    return np.array(res)"
   ]
  },
  {
   "cell_type": "code",
   "execution_count": null,
   "metadata": {},
   "outputs": [],
   "source": [
    "query = \"descaling the machine\"\n",
    "\n",
    "print(\"10 best matching documents of the query:\")\n",
    "print(retrieve(query=query, n_returns=10, index_name=\"coffee\", embedder='swivel'))"
   ]
  }
 ],
 "metadata": {
  "kernelspec": {
   "display_name": "Python 3",
   "language": "python",
   "name": "python3"
  },
  "language_info": {
   "codemirror_mode": {
    "name": "ipython",
    "version": 3
   },
   "file_extension": ".py",
   "mimetype": "text/x-python",
   "name": "python",
   "nbconvert_exporter": "python",
   "pygments_lexer": "ipython3",
   "version": "3.9.2"
  },
  "orig_nbformat": 4,
  "vscode": {
   "interpreter": {
    "hash": "e437a2448c23dbc28e025c6eaec2ea7adfc4015fd60928410744ddc12b3746d2"
   }
  }
 },
 "nbformat": 4,
 "nbformat_minor": 2
}

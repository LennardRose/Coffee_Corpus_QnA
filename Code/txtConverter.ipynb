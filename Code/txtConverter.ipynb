{
 "cells": [
  {
   "cell_type": "code",
   "execution_count": 40,
   "metadata": {},
   "outputs": [],
   "source": [
    "import os \n",
    "import PyPDF2\n",
    "from guess_language import guess_language\n",
    "from langdetect import detect, detect_langs"
   ]
  },
  {
   "cell_type": "code",
   "execution_count": 50,
   "metadata": {},
   "outputs": [],
   "source": [
    "def extractTxt(pdfFilePath, txtFilePath, filterLang=True):\n",
    "    with open(txtFilePath, 'w', encoding=\"utf-8\") as f:\n",
    "        pdfFileObj = open(pdfFilePath, 'rb')\n",
    "        pdfReader = PyPDF2.PdfFileReader(pdfFileObj)\n",
    "        for i in range(pdfReader.numPages):\n",
    "            pageObj = pdfReader.getPage(i)\n",
    "            text = pageObj.extractText()\n",
    "            if filterLang:\n",
    "                textSplits = text.split(\"\\n\")\n",
    "                textSplits = [x for x in textSplits if guess_language(x) == \"en\"]\n",
    "                text = \"\\n\".join(textSplits)\n",
    "\n",
    "            if len(text) > 0:\n",
    "                f.write(\"-----Page \" + str(i) + \"-----\\n\")\n",
    "            \n",
    "                if text[-1:] == \"\\n\":\n",
    "                    f.write(text)\n",
    "                else:\n",
    "                    f.write(text + \"\\n\")\n",
    "            continue"
   ]
  },
  {
   "cell_type": "code",
   "execution_count": 49,
   "metadata": {},
   "outputs": [
    {
     "name": "stderr",
     "output_type": "stream",
     "text": [
      "Xref table not zero-indexed. ID numbers for objects will be corrected.\n",
      "Xref table not zero-indexed. ID numbers for objects will be corrected.\n"
     ]
    }
   ],
   "source": [
    "\n",
    "manufacturers = [\"AEG\", \"Delonghi\"]#, \"Braun\"]\n",
    "newBasePath = \"textFiles/\"\n",
    "basePath = \"C:/Users/schmi/MAI_NLP_PROJECT/Code/ManualScraper/manuals/\"\n",
    "\n",
    "for manufacturer in manufacturers:\n",
    "    path = basePath + manufacturer + \"/\"\n",
    "    products = [ f.name for f in os.scandir(basePath + manufacturer + \"/\") if f.is_dir() ]\n",
    "    for product in products:\n",
    "        productPath = path + product + \"/\"\n",
    "        files = [f for f in os.listdir(productPath) if os.path.isfile(productPath+\"/\"+f)]\n",
    "        if len(files) == 0:\n",
    "            continue\n",
    "        elif len(files) == 1:\n",
    "            # only 1 file\n",
    "            directory  = newBasePath+manufacturer\n",
    "            if not os.path.exists(directory):\n",
    "                os.makedirs(directory)  \n",
    "            if product == \"cm4_1_6st\":\n",
    "                extractTxt(productPath+files[0], newBasePath+manufacturer+\"/\"+product+\".txt\", False)\n",
    "            else:\n",
    "                extractTxt(productPath+files[0], newBasePath+manufacturer+\"/\"+product+\".txt\")\n",
    "        else:\n",
    "            # multiple files -> find the right one\n",
    "            pass"
   ]
  },
  {
   "cell_type": "code",
   "execution_count": 12,
   "metadata": {},
   "outputs": [
    {
     "data": {
      "text/plain": [
       "['cm4_1_6st_bedienungsanleitung.pdf']"
      ]
     },
     "execution_count": 12,
     "metadata": {},
     "output_type": "execute_result"
    }
   ],
   "source": [
    "os.listdir('C:/Users/schmi/MAI_NLP_PROJECT/Code/ManualScraper/manuals/AEG/cm4_1_6st/')"
   ]
  },
  {
   "cell_type": "code",
   "execution_count": 13,
   "metadata": {},
   "outputs": [
    {
     "data": {
      "text/plain": [
       "[]"
      ]
     },
     "execution_count": 13,
     "metadata": {},
     "output_type": "execute_result"
    }
   ],
   "source": [
    "[f for f in os.listdir(\"C:/Users/schmi/MAI_NLP_PROJECT/Code/ManualScraper/manuals/AEG/cm4_1_6st/\") if os.path.isfile(f)]"
   ]
  },
  {
   "cell_type": "code",
   "execution_count": 14,
   "metadata": {},
   "outputs": [
    {
     "data": {
      "text/plain": [
       "False"
      ]
     },
     "execution_count": 14,
     "metadata": {},
     "output_type": "execute_result"
    }
   ],
   "source": [
    "os.path.isfile(\"cm4_1_6st_bedienungsanleitung.pdf\")"
   ]
  },
  {
   "cell_type": "code",
   "execution_count": 25,
   "metadata": {},
   "outputs": [],
   "source": [
    "# importing required modules\n",
    "import PyPDF2\n",
    "\n",
    "filepath = \"C:/Users/schmi/MAI_NLP_PROJECT/Code/ManualScraper/manuals/Delonghi/en167w_citiz_nespresso_kaffeemaschine/en167w_citiz_nespresso_kaffeemaschine_en167w_instruction_manuals_multilanguage.pdf\"\n",
    "fileName = filepath.rsplit('/', 1)[-1].split(\".\", 1)[0]\n",
    "\n",
    "pdfFileObj = open(filepath, 'rb')\n",
    "\n",
    "pdfReader = PyPDF2.PdfFileReader(pdfFileObj)\n",
    "   "
   ]
  },
  {
   "cell_type": "code",
   "execution_count": 37,
   "metadata": {},
   "outputs": [
    {
     "name": "stdout",
     "output_type": "stream",
     "text": [
      "-----Page 0-----\n",
      "\n",
      "\n",
      "\n",
      "-----Page 1-----\n",
      "\n",
      "2TROUBLESHOOTINGMACHINE OVERVIEW1\n",
      "\n",
      "-----Page 2-----\n",
      "\n",
      "3DISPOSAL AND ENVIRONMENTAL PROTECTION12ENERGY SAVING MODE8EMPTYING THE SYSTEM11SPECIFICATIONS7RESET TO FACTORY SETTINGS9\n",
      "\n",
      "-----Page 3-----\n",
      "\n",
      "\n",
      "\n",
      "-----Page 4-----\n",
      "\n",
      "\n",
      "\n",
      "-----Page 5-----\n",
      "\n",
      "\n",
      "\n",
      "-----Page 6-----\n",
      "\n",
      " EN  CAUTION:  Before operating refer to the safety instructions leaflet to avoid possible harm \n",
      "\n",
      "-----Page 7-----\n",
      "\n",
      "THANK YOU FOR CHOOSING YOUR NESPRESSO  MACHINE DELIVERS THE ULTIMATE ESPRESSO TIME AFTER TIME. FOLLOW THESE INSTRUCTIONS OR GO ONLINE FOR THE FULL USER MANUAL AT WWW.NESPRESSO.COM/HELP  .\n",
      "\n",
      "-----Page 8-----\n",
      "\n",
      "Suivez ces instructions ou \n",
      "\n",
      "-----Page 9-----\n",
      "\n",
      "Unboxing: some dust may be present on the surface of the machine due to the recycled materials used in the packaging. This is not dangerous, simply clean \n",
      "\n",
      "-----Page 10-----\n",
      "\n",
      "4. Press 3 times 3. Turn on your machine1. Rinse the water tank 2. Place a container\n",
      "\n",
      "-----Page 11-----\n",
      "\n",
      "2. Fill the water tank with fresh potable water~ 30 s\n",
      "\n",
      "-----Page 12-----\n",
      "\n",
      "\n",
      "\n",
      "-----Page 13-----\n",
      "\n",
      "1. Wash with hot water + mild odourless detergent2. Dry with a clean and fresh towel\n",
      "\n",
      "-----Page 14-----\n",
      "\n",
      "2. Empty capsules and water\n",
      "\n",
      "-----Page 15-----\n",
      "\n",
      "\n",
      "\n",
      "-----Page 16-----\n",
      "\n",
      "7. Refill and descale again \n",
      "\n",
      "-----Page 17-----\n",
      "\n",
      "1810. Exit descaling mode8. Rinse water tank, fill with fresh potable water  \n",
      "\n",
      "-----Page 18-----\n",
      "\n",
      "\n",
      "\n",
      "-----Page 19-----\n",
      "\n",
      "20 EN No light indicator • Check the power outlet, plug, voltage, and fuse. In case of problems, call Nespresso .No coffee, no water • First use: fill water tank with warm water  (max. 55° C / 130 F) and run through machine according to instructions on page 10.• Water tank is empty. Fill water tank.• Descale if necessary; see Descaling section.Coffee comes out very slowly • Flow speed depends on the coffee variety.• Descale if necessary; see Descaling section.Coffee is not hot enough • Descale if necessary; see Descaling section.TROUBLESHOOTING6\n",
      "\n",
      "-----Page 20-----\n",
      "\n",
      "\n",
      "\n",
      "-----Page 21-----\n",
      "\n",
      "\n",
      "\n",
      "-----Page 22-----\n",
      "\n",
      "\n",
      "\n",
      "-----Page 23-----\n",
      "\n",
      "\n",
      "\n",
      "-----Page 24-----\n",
      "\n",
      "\n",
      "\n",
      "-----Page 25-----\n",
      "\n",
      "\n",
      "\n",
      "-----Page 26-----\n",
      "\n",
      "TO CHANGE THIS SETTING1. Machine OFF - press and hold the Espresso button\n",
      "\n",
      "-----Page 27-----\n",
      "\n",
      "3. To exit - press and hold the Lungo button2. Press Espresso button\n",
      "\n",
      "-----Page 28-----\n",
      "\n",
      "1.  Fill with fresh potable water, insert a capsule and place a cup \n",
      "\n",
      "-----Page 29-----\n",
      "\n",
      "3. Release the button when desired quantity is reached2. Press and hold the chosen Coffee\n",
      "\n",
      "-----Page 30-----\n",
      "\n",
      "1. Machine OFF - press and hold the Lungo button\n",
      "\n",
      "-----Page 31-----\n",
      "\n",
      "2. Factory settings restored11\n",
      "\n",
      "-----Page 32-----\n",
      "\n",
      "BEFORE A PERIOD OF NON-USE AND FOR  FROST PROTECTION, OR BEFORE A REPAIR\n",
      "\n",
      "-----Page 33-----\n",
      "\n",
      "2. Place a container under the coffee outlet1. Machine OFF - remove water tank and open the lever\n",
      "\n",
      "-----Page 34-----\n",
      "\n",
      "Machine switches off when the procedure is finished3. Press and hold both buttons\n",
      "\n",
      "-----Page 35-----\n",
      "\n",
      " This appliance complies with the EU Directive 2012/19/EC. Packaging materials and appliance contain materials that can be recovered or can be recycled. Separation of the remaining waste materials into different types facilitates the recycling of valuable raw materials. Leave the appliance at a collection point. You can obtain information on disposal from your local authorities. T o know more about Nespresso  sustainability \n",
      "\n",
      "-----Page 36-----\n",
      "\n",
      "készülék újrahasznosítható anyagokat tartalmaz. \n",
      "\n",
      "-----Page 37-----\n",
      "\n",
      "\n",
      "\n",
      "-----Page 38-----\n",
      "\n",
      "\n",
      "\n",
      "-----Page 39-----\n",
      "\n",
      "\n",
      "\n"
     ]
    }
   ],
   "source": [
    "#with open(fileName+'.txt', 'w', encoding=\"utf-8\") as f:\n",
    "for i in range(pdfReader.numPages):\n",
    "    pageObj = pdfReader.getPage(i)\n",
    "    print(\"-----Page \" + str(i) + \"-----\\n\")\n",
    "    text = pageObj.extractText()\n",
    "    textSplits = text.split(\"\\n\")\n",
    "    textSplits = [txt for txt in textSplits if guess_language(txt) in [\"en\"]]#, \"UNKNOWN\"]]\n",
    "    text = \"\".join(textSplits)\n",
    "    if text[-1:] == \"\\n\":\n",
    "        print(text)\n",
    "    else:\n",
    "        print(text + \"\\n\")"
   ]
  },
  {
   "cell_type": "code",
   "execution_count": 41,
   "metadata": {},
   "outputs": [
    {
     "data": {
      "text/plain": [
       "[en:0.9999976291221979]"
      ]
     },
     "execution_count": 41,
     "metadata": {},
     "output_type": "execute_result"
    }
   ],
   "source": [
    "guess_language(\"No  coffee filter in the filter holder\")\n",
    "detect_langs(\"No  coffee filter in the filter holder\")"
   ]
  },
  {
   "cell_type": "code",
   "execution_count": 42,
   "metadata": {},
   "outputs": [
    {
     "data": {
      "text/plain": [
       "[bg:0.999996010585176]"
      ]
     },
     "execution_count": 42,
     "metadata": {},
     "output_type": "execute_result"
    }
   ],
   "source": [
    "guess_language(\"Благодарим ви, че избрахте продукт на AEG. За да гарантираме най-добри резултати\")\n",
    "detect_langs(\"Благодарим ви, че избрахте продукт на AEG. За да гарантираме най-добри резултати\")"
   ]
  },
  {
   "cell_type": "code",
   "execution_count": 48,
   "metadata": {},
   "outputs": [
    {
     "data": {
      "text/plain": [
       "[nl:0.9999977986256475]"
      ]
     },
     "execution_count": 48,
     "metadata": {},
     "output_type": "execute_result"
    }
   ],
   "source": [
    "detect_langs(\"1. Wash with hot water + mild odourless detergent.  FR  Laver à l’eau chaude et au détergent doux sans odeur  DE  Reinigen Sie mit heißem Wasser und einem milden, geruchlosen Mittel  IT  Risciacquare con acqua calda e un detergente delicato inodore  ES  Limpia con agua caliente y detergente suave sin perfume  PT  Lave com água quente + detergente suave e inodoro  CS  Přístroj omývejte teplou/horkou vodou a saponátem bez vůně  SK  Prístroj umývajte teplou / horúcou vodou a saponátom bez vône  PL  Umyj gorącą wodą z łagodnym, bezwonnym detergentem  HU  Mossa el melegvízzel és enyhe, szagmentes tisztítószerrel  RU  Очищайте горячей водой + мягким моющим средством без запаха  EL  Πλύνετε με ζεστό νερό και ήπιο, άοσμο απορρυπαντικό  NL  Schoonmaken met warm water en mild geurloos schoonmaakmiddel  DA  Vask med varmt vand + mild parfumefri sæbe  NO  Vask med varmt vann + mildt og luktfritt vaskemiddel  SV  Rengör med varmt vatten + milt luktfritt rengöringsmedel  FI  Puhdista osat kuumalla vedellä ja hajuttomalla pesuaineella  RO  Spălați cu apă caldă + un detergent delicat, fără miros \")"
   ]
  },
  {
   "cell_type": "code",
   "execution_count": 43,
   "metadata": {},
   "outputs": [
    {
     "data": {
      "text/plain": [
       "[ca:0.5714283295186907, cs:0.4283722834642878]"
      ]
     },
     "execution_count": 43,
     "metadata": {},
     "output_type": "execute_result"
    }
   ],
   "source": [
    "detect_langs('\\u2009CS\\u2009 UPOZORNĚNÍ:  Před prvním \\npoužití přístroje si pozorně \\npřečtěte bezpečnostní pokyny , \\nabyste předešli možnému úrazu \\nnebo poškození přístroje.\\n\\u2009SK\\u2009 UPOZORNENIE:  Pred prvým \\npoužití prístroja si prečítajte \\nbezpečnostné pokyny , aby ste \\npredišli možnému úrazu alebo \\npoškodeniu prístroja.\\n\\u2009PL\\u2009 UWAGA:  Przed \\nuruchomieniem ekspresu do \\nkawy , aby uniknąć ewentualnych \\nobrażeń i szkód, należy \\nzapoznać się z instrukcjami \\nbezpieczeństwa na ulotce.\\n\\u2009HU\\u2009 FIGYELEM:  Mielőtt \\nhasználatba venné a \\nkávéfőzőjét , olvassa el a \\nbiztonsági előírásokat tartalmazó \\nfüzetet, az esetleges károk és \\nsérülések elkerülése céljából.\\n\\u2009RU\\u2009 ВНИМАНИЕ.  Внимательно \\nизучите инструкцию с мерами \\nпредосторожности перед \\nпервым использованием \\nкофемашины , чтобы избежать \\nвозможных повреждений и \\nтравм.\\n\\u2009EL\\u2009 ΠΡΟΣΟΧΗ:  Πριν \\nχρησιμοποιήσετε τη μηχανή \\nκαφέ , διαβάστε το φυλλάδιο \\u2009FR\\u2009 ATTENTION :  Avant d’utiliser \\nvotre machine Nespresso , \\nveuillez vous reporter à la notice \\nde sécurité afin d’éviter blessure \\nou dommage.\\n\\u2009DE\\u2009 ACHTUNG:  Bevor Sie Ihre \\nKaffeemaschine in Betrieb \\nnehmen , lesen Sie bitte \\nsorgfältig die beigelegte \\nSicherheitsbroschüre, um \\nVerletzungen oder Schäden zu \\nvermeiden. \\n\\u2009IT\\u2009 ATTENZIONE:  Prima di \\nutilizzare la macchina da \\ncaffè , leggere le precauzioni di \\nsicurezza per evitare eventuali \\ndanni.\\n\\u2009ES\\u2009 ADVERTENCIA:  Antes \\nde utilizar la máquina de \\ncafé , consulta el folleto de \\ninstrucciones de seguridad para \\nevitar daños y lesiones.\\n\\u2009PT\\u2009 ATENÇÃO:  Antes da \\nutilização da sua máquina , por \\nfavor consulte o folheto das \\ninstruções de segurança, para \\nevitar danos e lesões.\\u2009FR\\u2009 CONSIGNES DE SÉCURITÉ   \\u2009DE\\u2009 SICHERHEITSHINWEISE   \\u2009IT\\u2009 SICUREZZA    \\n\\u2009ES\\u2009 SEGURIDAD   \\u2009PT\\u2009 SEGURANÇA   \\u2009CS\\u2009 BEZPEČNOSTNÍ POKYNY    \\n\\u2009SK\\u2009 BEZPEČNOSTNÉ POKYNY   \\u2009PL\\u2009 ZASADY BEZPIECZEŃSTWA    \\n\\u2009HU\\u2009 BIZTONSÁG   \\u2009RU\\u2009 МЕРЫ ПРЕДОСТОРОЖНОСТИ   \\u2009EL\\u2009 ΑΣΦΑΛΕΙΑ    \\n\\u2009NL\\u2009 VEILIGHEID   \\u2009DA\\u2009 SIKKERHEDSANVISNINGER   \\u2009NO \\u2009 SIKKERHET    \\n\\u2009SV\\u2009 SÄKERHET   \\u2009FI\\u2009 TURVALLISUUS   \\u2009RO\\u2009 INSTRUCŢIUNI DE SIGURANŢĂ \\n7SAFETY\\n\\u2009EN\\u2009 CAUTION:  Before operating \\nyour coffee machine , please \\nrefer to the safety instructions \\nleaflet to avoid possible harm \\nand damage. ')"
   ]
  },
  {
   "cell_type": "code",
   "execution_count": null,
   "metadata": {},
   "outputs": [
    {
     "data": {
      "text/plain": [
       "'bg'"
      ]
     },
     "execution_count": 10,
     "metadata": {},
     "output_type": "execute_result"
    }
   ],
   "source": [
    "guess_language(\"No paper coffee filter in the filter holder so test it and try it, Благодарим ви, че избрахте продукт на AEG. За да гарантираме най-добри резултати\")"
   ]
  }
 ],
 "metadata": {
  "kernelspec": {
   "display_name": "Python 3",
   "language": "python",
   "name": "python3"
  },
  "language_info": {
   "codemirror_mode": {
    "name": "ipython",
    "version": 3
   },
   "file_extension": ".py",
   "mimetype": "text/x-python",
   "name": "python",
   "nbconvert_exporter": "python",
   "pygments_lexer": "ipython3",
   "version": "3.9.13"
  },
  "orig_nbformat": 4,
  "vscode": {
   "interpreter": {
    "hash": "21a5f8a8ea2df4750af846b3a96d1d1630dd100971869a8cd09deacba9f8eba0"
   }
  }
 },
 "nbformat": 4,
 "nbformat_minor": 2
}

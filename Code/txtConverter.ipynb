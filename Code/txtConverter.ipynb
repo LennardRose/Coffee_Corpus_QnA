{
 "cells": [
  {
   "cell_type": "code",
   "execution_count": null,
   "metadata": {},
   "outputs": [],
   "source": [
    "import os \n",
    "\n",
    "\n",
    "manufacturers = [\"AEG\", \"Delonghi\", \"Braun\"]\n",
    "\n",
    "basePath = \"C:/Users/Jochen/MAI_NLP_PROJECT/Code/ManualScraper/manuals/\"\n",
    "\n",
    "for manufacturer in manufacturers:\n",
    "    path = basePath + manufacturer + \"/\"\n",
    "    products = [ f.name for f in os.scandir(basePath + manufacturer + \"/\") if f.is_dir() ]\n",
    "    for product in products:\n",
    "        productPath = path + product + \"/\"\n",
    "        files = [f for f in os.listdir(productPath) if os.path.isfile(f)]\n",
    "        if len(files) == 0:\n",
    "            continue\n",
    "        else if len(files) == 1:\n",
    "            # only 1 file\n",
    "        else:\n",
    "            # multiple files -> find the right one"
   ]
  },
  {
   "cell_type": "code",
   "execution_count": 93,
   "metadata": {},
   "outputs": [
    {
     "data": {
      "text/plain": [
       "['purease_kaffeemaschine_kf_3120_wh_instruction_manuals_multilanguage.pdf',\n",
       " 'purease_kaffeemaschine_kf_3120_wh_instruction_manuals_simplified_chinese.pdf',\n",
       " 'purease_kaffeemaschine_kf_3120_wh_safety_instruction_multilanguage.pdf']"
      ]
     },
     "execution_count": 93,
     "metadata": {},
     "output_type": "execute_result"
    }
   ],
   "source": [
    "os.listdir(productPath)"
   ]
  },
  {
   "cell_type": "code",
   "execution_count": 90,
   "metadata": {},
   "outputs": [
    {
     "data": {
      "text/plain": [
       "['cm4_1_6st_bedienungsanleitung.txt', 'txtConverter.ipynb']"
      ]
     },
     "execution_count": 90,
     "metadata": {},
     "output_type": "execute_result"
    }
   ],
   "source": [
    "import os \n",
    "\n",
    "#os.walk(basePath + manufacturer + \"/\")\n",
    "[ f.name for f in os.scandir(basePath + manufacturer + \"/\") if f.is_dir() ]\n",
    "[f for f in os.listdir('.') if os.path.isfile(f)]"
   ]
  },
  {
   "cell_type": "code",
   "execution_count": 75,
   "metadata": {},
   "outputs": [
    {
     "ename": "UnicodeEncodeError",
     "evalue": "'latin-1' codec can't encode character '\\ufffd' in position 2002: ordinal not in range(256)",
     "output_type": "error",
     "traceback": [
      "\u001b[1;31m---------------------------------------------------------------------------\u001b[0m",
      "\u001b[1;31mUnicodeEncodeError\u001b[0m                        Traceback (most recent call last)",
      "\u001b[1;32m~\\AppData\\Local\\Temp\\ipykernel_13004\\2774649546.py\u001b[0m in \u001b[0;36m<cell line: 16>\u001b[1;34m()\u001b[0m\n\u001b[0;32m     14\u001b[0m \u001b[0mtxt\u001b[0m \u001b[1;33m=\u001b[0m \u001b[0mpageObj\u001b[0m\u001b[1;33m.\u001b[0m\u001b[0mextractText\u001b[0m\u001b[1;33m(\u001b[0m\u001b[1;33m)\u001b[0m\u001b[1;33m\u001b[0m\u001b[1;33m\u001b[0m\u001b[0m\n\u001b[0;32m     15\u001b[0m \u001b[1;31m#print(txt)\u001b[0m\u001b[1;33m\u001b[0m\u001b[1;33m\u001b[0m\u001b[1;33m\u001b[0m\u001b[0m\n\u001b[1;32m---> 16\u001b[1;33m \u001b[0mprint\u001b[0m\u001b[1;33m(\u001b[0m\u001b[0mtxt\u001b[0m\u001b[1;33m.\u001b[0m\u001b[0mencode\u001b[0m\u001b[1;33m(\u001b[0m\u001b[1;34m'latin'\u001b[0m\u001b[1;33m)\u001b[0m\u001b[1;33m.\u001b[0m\u001b[0mdecode\u001b[0m\u001b[1;33m(\u001b[0m\u001b[1;34m'windows-1251'\u001b[0m\u001b[1;33m)\u001b[0m\u001b[1;33m)\u001b[0m\u001b[1;33m\u001b[0m\u001b[1;33m\u001b[0m\u001b[0m\n\u001b[0m",
      "\u001b[1;31mUnicodeEncodeError\u001b[0m: 'latin-1' codec can't encode character '\\ufffd' in position 2002: ordinal not in range(256)"
     ]
    }
   ],
   "source": [
    "# importing required modules\n",
    "import PyPDF2\n",
    "\n",
    "filepath = 'C:/Users/Jochen/MAI_NLP_PROJECT/Code/ManualScraper/manuals/AEG/cm4_1_6st/cm4_1_6st_bedienungsanleitung.pdf'\n",
    "fileName = filepath.rsplit('/', 1)[-1].split(\".\", 1)[0]\n",
    "\n",
    "pdfFileObj = open(filepath, 'rb')\n",
    "\n",
    "pdfReader = PyPDF2.PdfFileReader(pdfFileObj)\n",
    "   "
   ]
  },
  {
   "cell_type": "code",
   "execution_count": null,
   "metadata": {},
   "outputs": [],
   "source": [
    "from pdfminer import high_level\n",
    "\n",
    "with open(filepath, 'rb') as f:\n",
    "    text = high_level.extract_text(f)\n",
    "    #print(text)"
   ]
  },
  {
   "cell_type": "code",
   "execution_count": 81,
   "metadata": {},
   "outputs": [
    {
     "name": "stdout",
     "output_type": "stream",
     "text": [
      "guess: it\n",
      "detect: nl\n",
      "guess: en\n",
      "detect: en\n",
      "guess: en\n",
      "detect: en\n",
      "guess: en\n",
      "detect: en\n",
      "guess: en\n",
      "detect: en\n",
      "guess: en\n",
      "detect: en\n",
      "guess: en\n",
      "detect: en\n",
      "guess: en\n",
      "detect: en\n",
      "guess: en\n",
      "detect: en\n",
      "guess: en\n",
      "detect: en\n",
      "guess: it\n",
      "detect: it\n",
      "guess: ca\n",
      "detect: it\n",
      "guess: ca\n",
      "detect: it\n",
      "guess: ca\n",
      "detect: sw\n",
      "guess: ca\n",
      "detect: it\n"
     ]
    }
   ],
   "source": [
    "with open(fileName+'.txt', 'w', encoding=\"utf-8\") as f:\n",
    "    for i in range(15):#pdfReader.numPages):\n",
    "        pageObj = pdfReader.getPage(i)\n",
    "        f.write(\"-----Page \" + str(i) + \"-----\\n\")\n",
    "        text = pageObj.extractText()\n",
    "        print(\"guess:\", guess_language(text))\n",
    "        print(\"detect:\", detect(text))\n",
    "        if text[-1:] == \"\\n\":\n",
    "            f.write(text)\n",
    "        else:\n",
    "            f.write(text + \"\\n\")"
   ]
  },
  {
   "cell_type": "code",
   "execution_count": 33,
   "metadata": {},
   "outputs": [],
   "source": [
    "from guess_language import guess_language"
   ]
  },
  {
   "cell_type": "code",
   "execution_count": 34,
   "metadata": {},
   "outputs": [
    {
     "data": {
      "text/plain": [
       "'en'"
      ]
     },
     "execution_count": 34,
     "metadata": {},
     "output_type": "execute_result"
    }
   ],
   "source": [
    "guess_language(\"This appliance is not intended for use by persons\")"
   ]
  },
  {
   "cell_type": "code",
   "execution_count": 79,
   "metadata": {},
   "outputs": [
    {
     "data": {
      "text/plain": [
       "'sw'"
      ]
     },
     "execution_count": 79,
     "metadata": {},
     "output_type": "execute_result"
    }
   ],
   "source": [
    "from langdetect import detect\n",
    "\n",
    "detect(\"/uni0411/uni043B/uni0430/uni0433/uni043E/uni0434/uni0430/uni0440/uni0438/uni043C /uni0432/uni0438, /uni0447/uni0435 /uni0438/uni0437/uni0431/uni0440/uni0430/uni0445/uni0442/uni0435 /uni043F/uni0440/uni043E/uni0434/uni0443/uni043A/uni0442 /uni043D/uni0430  AEG.  /uni0417/uni0430 /uni0434/uni0430 /uni0433/uni0430/uni0440/uni0430/uni043D/uni0442/uni0438/uni0440/uni0430/uni043C/uni0435 /uni043D/uni0430/uni0439-/uni0434/uni043E/uni0431/uni0440/uni0438\")"
   ]
  }
 ],
 "metadata": {
  "kernelspec": {
   "display_name": "Python 3.9.6 64-bit",
   "language": "python",
   "name": "python3"
  },
  "language_info": {
   "codemirror_mode": {
    "name": "ipython",
    "version": 3
   },
   "file_extension": ".py",
   "mimetype": "text/x-python",
   "name": "python",
   "nbconvert_exporter": "python",
   "pygments_lexer": "ipython3",
   "version": "3.9.6"
  },
  "orig_nbformat": 4,
  "vscode": {
   "interpreter": {
    "hash": "e09c07673d3a7f5c44e4b5036d2372e0dd3f1933a01e0d465adb0862f4694c68"
   }
  }
 },
 "nbformat": 4,
 "nbformat_minor": 2
}

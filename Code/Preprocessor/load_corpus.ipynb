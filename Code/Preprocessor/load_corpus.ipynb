{
 "cells": [
  {
   "cell_type": "code",
   "execution_count": 1,
   "metadata": {
    "pycharm": {
     "name": "#%%\n"
    }
   },
   "outputs": [],
   "source": [
    "import json\n",
    "with open(\"output_preprocessing/corpus.json\") as f:\n",
    "    corpus = json.load(f)"
   ]
  },
  {
   "cell_type": "code",
   "execution_count": null,
   "outputs": [],
   "source": [
    "# corpus = corpus und erstes element wegschmeißen"
   ],
   "metadata": {
    "collapsed": false,
    "pycharm": {
     "name": "#%%\n"
    }
   }
  },
  {
   "cell_type": "code",
   "execution_count": 6,
   "metadata": {
    "pycharm": {
     "name": "#%%\n"
    }
   },
   "outputs": [
    {
     "name": "stdout",
     "output_type": "stream",
     "text": [
      "ecam22110b_magnifica_s_kaffeevollautomat\n",
      "esam46080mb_perfecta_deluxe_kaffeevollautomat\n",
      "ec685w_dedica_siebträger\n",
      "ec885m_dedica_arte\n",
      "esam04120s_magnifica_bean_to_cup_coffee_machines\n",
      "en125s_pixie_nespresso_kaffeemaschine\n",
      "ecz351w_scultura_siebträgermaschine\n",
      "en560w_lattissima_touch_nespresso_coffee_machine\n",
      "eletta_explore_kaffeevollautomat_ecam45055s\n",
      "emkm6b_alicia_plus_moka_kaffeemaschine\n",
      "eci341bk_distinta_siebträger\n",
      "en750mb_lattissima_pro_nespresso_kaffeemaschine\n",
      "ecp3321w_siebträger\n",
      "ecam25033tb_magnifica_s_kaffeevollautomat\n",
      "esam3550b_magnifica_kaffeevollautomat\n",
      "ecam55065ms_primadonna_class_kaffeevollautomat\n",
      "magnifica_start_kaffeevollautomat_ecam22020w\n",
      "ec9155mb_la_specialista_arte_siebträger\n",
      "ecam55655w_primadonna_class_automatic_coffee_maker\n",
      "ecam45766b_eletta_cappuccino_automatic_coffee_maker\n",
      "ecam29031sb_magnifica_evo_kaffeevollautomat\n",
      "ecam21117b\n",
      "ec860_ec_series_manual_espresso_maker\n",
      "ecam65685ms_primadonna_elite_experience_automatic_coffee_maker\n",
      "ec9665m_la_specialista_maestro_siebträger\n",
      "ecam65675ms_ex1_primadonna_elite_kaffeevollautomat\n",
      "etam29510b_autentica_kaffeevollautomat\n",
      "en550bm_lattissima_touch_nespresso_coffee_machine\n",
      "ec680r_dedica_manual_espresso_maker\n",
      "esam3500s_magnifica_kaffeevollautomat\n",
      "en550w_lattissima_nespresso_coffee_machine\n",
      "eci341w_distinta_siebträgermaschine\n",
      "en560b_lattissima_touch_nespresso_kaffeemaschine\n",
      "en650w_gran_lattissima_nespresso_kaffeemaschine\n",
      "ecam29061sb_magnifica_evo_kaffeevollautomat\n",
      "ecz351bk_scultura_manual_espresso_maker\n",
      "en267bae_citiz_nespresso_kaffeemaschine\n",
      "en85b_essenza_mini_nespresso_kaffeemaschine\n",
      "en80b_inissia_nespresso_kaffeemaschine\n",
      "eci341cp_distinta_pump_espresso_coffee_machine\n",
      "eckg6821m_siebträger_und_elektrische_kaffeemühle\n",
      "magnifica_start_kaffeevollautomat_ecam22022gb\n",
      "en550s_lattissima_touch_nespresso_coffee_machine\n",
      "en510w_lattissima_one_nespresso_kaffeemaschine\n",
      "ec9355bm_la_specialista_prestigio_siebträger\n",
      "ecam46860b_eletta_cappuccino_evo_kaffeevollautomat\n",
      "ecam29081tb_magnifica_evo_automatic_espresso_machine\n",
      "esam03120s_ex1_magnifica_kaffeevollautomat\n",
      "icm14011_active_line_filterkaffeemaschine\n",
      "ecz351bg_scultura_siebträger\n",
      "esam03126s_magnifica_kaffeevollautomat\n",
      "ecov311bg_icona_vintage_siebträger\n",
      "ec9355m_la_specialista_prestigio_siebträger\n",
      "en80cw_inissia_nespresso_kaffeemaschine\n",
      "en500b_lattissima_one_nespresso_kaffeemaschine\n",
      "env120bm_vertuonext_nespresso_kaffeemaschine\n",
      "ecam29022b_magnifica_evo_kaffeevollautomat\n",
      "ecam25023sb_magnifica_s_kaffeevollautomat\n",
      "ecam55065sb_primadonna_class_kaffeevollautomat\n",
      "ecz351gy_scultura_pump_espresso_coffee_machine\n",
      "ecam22110w_kaffeevollautomat\n",
      "ec785pk_dedica_metallics_siebträger\n",
      "ecam61075mb_primadonna_soul_kaffeevollautomat\n",
      "icm14011w_active_line_filterkaffeemaschine\n",
      "ecam61055sb_primadonna_soul_kaffeevollautomat\n",
      "ec685m_dedica_siebträger\n",
      "ecov311az_icona_vintage_siebträger\n",
      "esam03105s_magnifica_fully_automatic_coffee_machines\n",
      "eletta_explore_kaffeevollautomat_ecam45076t\n",
      "en124r_pixie_nespresso_kaffeemaschine\n",
      "esam4200s_ex1_magnifica_automatic_coffee_maker\n",
      "etam29666s_autentica_kaffeevollautomat\n",
      "env120w_vertuonext_nespresso_kaffeemaschine\n",
      "ecam37070b_ex4_dinamica_plus_kaffeevollautomat\n",
      "ecam25031sb_magnifica_s_kaffeevollautomat\n",
      "en550r_lattissima_touch_nespresso_coffee_machine\n",
      "ecam29042tb_magnifica_evo_automatic_coffee_maker\n",
      "en124s_pixie_nespresso_kaffeemaschinen\n",
      "ecam55085ms_primadonna_class_kaffeevollautomat\n",
      "kaffeevollautomat\n",
      "esam04320s_magnifica_automatic_coffee_maker\n",
      "ecam21116b_magnifica_s_kaffeevollautomat\n",
      "ec680bk_dedica_manual_espresso_maker\n",
      "en167b_citiz_nespresso_kaffeemaschinen\n",
      "esam3200s_ex1_magnifica_kaffeevollautomat\n",
      "ecam65055ms_primadonna_elite_automatic_coffee_maker\n",
      "etam29660sb_autentica_cappuccino_kaffeevollautomat\n",
      "ec785gy_dedica_metallics_siebträger_inkl_zubehör\n",
      "ec9155w_la_specialista_arte_manual_espresso_maker\n",
      "ecam65675ms_primadonna_elite_automatic_coffee_maker\n",
      "en550b_lattissima_touch_nespresso_coffee_machine\n",
      "env120gy_vertuonext_nespresso_kaffeemaschine\n",
      "ecam37070sb_dinamica_plus_kaffeevollautomat\n",
      "ecam22366s_magnifica_s_automatic_coffee_maker\n",
      "en267wae_citiz_nespresso_kaffeemaschine\n",
      "ecam45760w_eletta_cappuccino_kaffeevollautomat\n",
      "en650b_gran_lattissima_nespresso_kaffeemaschine\n",
      "ecam21118w_magnifica_s_automatic_coffee_maker\n",
      "magnifica_start_kaffeevollautomat_ecam22031sb\n",
      "ecam29233sb_magnifica_evo_kaffeevollautomat\n",
      "ec860m_manual_espresso_maker\n",
      "ecam37095s_dinamica_plus_kaffeevollautomat\n",
      "esam04110b_magnifica_kaffeevollautomat\n",
      "esam04353s_magnifica_bean_to_cup_coffee_machine\n",
      "epam96075glm_maestosa_kaffeevollautomat\n",
      "ec785bg_dedica_metallics_siebträger_inkl_zubehör\n",
      "ecp3531_siebträgermaschine\n",
      "ec685bk_dedica_siebträger\n",
      "ecam37070b_dinamica_plus_kaffeevollautomat\n",
      "ecp3321r_siebträger\n",
      "etam29666t_autentica_kaffeevollautomat\n",
      "en85r_nespresso_kaffeemaschinen\n",
      "ec9335r_la_specialista_siebträger\n",
      "ecam21118b_magnifica_s_kaffeevollautomat\n",
      "ecam37085b_dinamica_plus_kaffeevollautomat\n",
      "eletta_explore_kaffeevollautomat_ecam45257g\n",
      "en167w_citiz_nespresso_kaffeemaschine\n",
      "ecp3121_ec_series_manual_espresso_maker\n",
      "ec235bk_stilosa_siebträger\n",
      "ecov311gr_icona_vintage_siebträger\n",
      "ec9335m_la_specialista_siebträgermaschine\n",
      "en85l_nespresso_kaffeemaschinen\n",
      "ecam65085ms_primadonna_elite_experience_kaffeevollautomat\n",
      "eci341bz_distinta_pump_espresso_coffee_machine\n",
      "ec680m_dedica_manual_espresso_maker\n",
      "ecam45766w_eletta_cappuccino_automatic_coffee_maker\n",
      "esam02110sb_magnifica_automatic_coffee_maker\n",
      "ecam29061b_magnifica_evo_kaffeevollautomat\n",
      "eletta_explore_kaffeevollautomat_ecam45055g\n",
      "ecam29021b_magnifica_evo_automatic_coffee_maker\n",
      "ecov311bk_icona_vintage_siebträger\n",
      "ecam65655ms_primadonna_elite_automatic_coffee_maker\n",
      "en560s_lattissima_touch_nespresso_kaffeemaschine\n",
      "ecam55655sb_primadonna_class_automatic_coffee_maker\n",
      "en500bw_lattissima_one_nespresso_coffee_machine\n",
      "ecam61255sb_primadonna_soul_kaffeevollautomat\n",
      "ecp3321bk_siebträger\n",
      "ecam22110sb_magnifica_s_kaffeevollautomat\n",
      "env120bw_vertuonext_nespresso_kaffeemaschine\n",
      "ecam61074mb_automatischer_primadonna_soul_kaffeevollautomat\n",
      "icm14011r_active_line_filterkaffeemaschine\n",
      "esam4500_magnifica_automatic_coffee_maker\n",
      "ecam44660b_eletta_cappuccino_kaffeevollautomat\n",
      "en510b_lattissima_one_nespresso_kaffeemaschine\n",
      "ecam37095t_dinamica_plus_kaffeevollautomat\n",
      "ecam55675ms_primadonna_class_automatic_coffee_maker\n",
      "ecam45366s_eletta_bean_to_cup_coffee_machines\n",
      "ecam55065w_primadonna_class_kaffeevollautomat\n",
      "ec850m_ec_800_siebträger\n",
      "ecam21116sb_magnifica_s_kaffeevollautomat\n",
      "ecam55075ms_primadonna_class_kaffeevollautomat\n",
      "ec685r_dedica_siebträger\n",
      "esam04350s_magnifica_automatic_coffee_maker\n",
      "esam4008b_magnifica_fully_automatic_coffee_machines\n"
     ]
    }
   ],
   "source": [
    "for lang in corpus[9][\"products\"]:\n",
    "    print(lang['product_id'])"
   ]
  },
  {
   "cell_type": "code",
   "execution_count": 12,
   "metadata": {
    "pycharm": {
     "name": "#%%\n"
    }
   },
   "outputs": [],
   "source": [
    "import Code.Clients.client_factory as factory\n",
    "for entry in corpus:\n",
    "    manufacturer = entry[\"manufacturer\"]\n",
    "    for product in entry[\"products\"]:\n",
    "        p_id = product[\"product_id\"]\n",
    "        for language in product[\"languages\"]: #check\n",
    "            lang = language\n",
    "            for header in product[\"languages\"][language]:\n",
    "                h_id = header[\"headerId\"]\n",
    "                h_text = header[\"headerText\"]\n",
    "                h_paragraph = header[\"paragraphText\"]\n",
    "                if header[\"headerChildren\"]:\n",
    "                    for subheader in header[\"headerChildren\"]:\n",
    "                        sh_id = subheader[\"subHeaderId\"]\n",
    "                        sh_text = subheader[\"subHeaderText\"]\n",
    "                        sh_paragraph = subheader[\"paragraphText\"]\n",
    "                        file = {\n",
    "                            \"manufacturer\" : manufacturer,\n",
    "                            \"product\" : p_id,\n",
    "                            \"language\" : lang,\n",
    "                            \"headerId\" : h_id,\n",
    "                            \"headerText\" : h_text,\n",
    "                            \"headerParagraphText\" : h_paragraph,\n",
    "                            \"subHeaderId\" : sh_id,\n",
    "                            \"SubHeaderText\" : sh_text,\n",
    "                            \"subHeaderParagraphText\" : sh_paragraph\n",
    "                        }\n",
    "                        factory.get_meta_client().index_corpusfile_metadata(file)\n",
    "\n",
    "                else:\n",
    "                    file = {\n",
    "                        \"manufacturer_name\" : manufacturer,\n",
    "                        \"product_name\" : p_id,\n",
    "                        \"language\" : lang,\n",
    "                        \"headerId\" : h_id,\n",
    "                        \"headerText\" : h_text,\n",
    "                        \"headerParagraphText\" : h_paragraph,\n",
    "                        \"subHeaderId\" : None,\n",
    "                        \"SubHeaderText\" : None,\n",
    "                        \"subHeaderParagraphText\" : None\n",
    "                    }\n",
    "                    factory.get_meta_client().index_corpusfile_metadata(file)\n",
    "\n",
    "\n",
    "\n",
    "\n"
   ]
  },
  {
   "cell_type": "code",
   "execution_count": 1,
   "outputs": [
    {
     "name": "stderr",
     "output_type": "stream",
     "text": [
      "ERROR:root:No corpus for: [{'match_phrase': {'manufacturer': {'query': 'AEG'}}}, {'match_phrase': {'product': {'query': 'cm6_1_5st'}}}, {'match_phrase': {'language': {'query': 'en'}}}] not found.\n"
     ]
    },
    {
     "name": "stdout",
     "output_type": "stream",
     "text": [
      "[{'manufacturer': 'AEG', 'product': 'cm6_1_5st', 'language': 'en', 'headerId': 4, 'headerText': 'Handling and Operation', 'headerParagraphText': '', 'subHeaderId': 8, 'SubHeaderText': 'Making Coﬀee with Coﬀee Powder', 'subHeaderParagraphText': '1. Fill the water tank. 2. Open the ﬁlter compartment and insert a paper ﬁlter. Add the quantity of coﬀee powder you want. Close the ﬁlter compartment. 3. Set the desired number of cups with the button . 4. Press the button. The symbol (14) appears on the display. 5. Press the button (18) to start the brewing process. If the brewing process is to be aborted prematurely, press the button (26). The operating lamp goes out and the device will abort the brewing process.'}, {'manufacturer': 'AEG', 'product': 'cm6_1_5st', 'language': 'en', 'headerId': 4, 'headerText': 'Handling and Operation', 'headerParagraphText': '', 'subHeaderId': 9, 'SubHeaderText': 'Making coﬀee with a pre-set time', 'subHeaderParagraphText': 'To make coﬀee with a pre-set time, the clock needs to be set (see “Setting the time”). 1. Make preparations according to your preference, coﬀee beans or coﬀee powder. Pour in water and insert a ﬁlter. 2. Set the desired number of cups with the button . 3. For making coﬀee with coﬀee powder, press the button before the timer is set. The symbol (14) appears on the display. 4. Press the timer button until the indicator time (16) ﬂashes on the display. 5. Use the and buttons to set the start time you want. For making coﬀee with coﬀee beans, use the button (24) to set the coﬀee strength you want. 6. To activate the pre-set time, press the start button again. The symbol (15) appears on the display. The pre-set time is activated. Once the pre-set time is reached, the device switches on automatically. The operating lamp lights up and the (17) symbol ﬂashes on the display.'}, {'manufacturer': 'AEG', 'product': 'cm6_1_5st', 'language': 'en', 'headerId': 4, 'headerText': 'Handling and Operation', 'headerParagraphText': '', 'subHeaderId': 10, 'SubHeaderText': 'Deactivating the pre-set time', 'subHeaderParagraphText': 'To deactivate the pre-set time setting, press the CANCEL button (26). The symbol (15) goes out and the programming is deactivated. However, the pre-set time is retained and can be reactivated at any time until a new pre-set time is programmed or the device has been disconnected from the power supply.'}, {'manufacturer': 'AEG', 'product': 'cm6_1_5st', 'language': 'en', 'headerId': 4, 'headerText': 'Handling and Operation', 'headerParagraphText': '', 'subHeaderId': 11, 'SubHeaderText': 'Cleaning and Care', 'subHeaderParagraphText': 'Do not use any toxic, corrosive or abrasive cleaning agents or scouring sponges to clean the device. These can damage the surface. Setting the Number of Cups Keep pressing the button until the display (7) shows the number of cups you want (12). The selected number of cups is saved until a new number of cups is set or the device has been disconnected from the power supply. All of the water in the water tank is always used up, regardless of the set number of cups or coﬀee strength. Setting the Coﬀee Strength The coﬀee strength can be set when making coﬀee with coﬀee beans. To do this, keep pressing the button (24) until the coﬀee strength (13) you want is shown on the display. - Mild coﬀee - Medium coﬀee - Strong coﬀee The selected coﬀee strength is saved until a new coﬀee strength is set or the device has been disconnected from the power supply. Keep-Warm Function The device has an automatic keep-warm function. The hotplate remains switched on for 40 minutes after each brewing process. After the brewing process the keep warm icon (17a) in the display will be lit. To end the keep-warm function prematurely, press the button (26) to cancel. Drip Stop The device has a drip stop which prevents coﬀee from dripping out of the ﬁlter when the jug has been removed from the device. When the device is in operation, the ﬁlter compartment (5) must be closed and the jug with lid placed must be placed beneath the ﬁlter compartment. During the brewing process, the jug must not be removed from the device for longer than 30 seconds as otherwise the ﬁlter could overﬂow. Preparation Making coﬀee with coﬀee beans 1. Fill the water tank. 2. Fill the coﬀee bean compartment. 3. Set the grinding ﬁneness you want. 4. Open the ﬁlter compartment and insert a paper ﬁlter. Close the ﬁlter compartment. 5. Set the desired number of cups by pressing . 6. Set the desired coﬀee strength with the button . 7. Press the button (18) to switch on the grinder and start the brewing process. Components 1. Lid for the coﬀee bean compartment 2. Coﬀee bean compartment 3. Grinder (top part removable) 4. Control panel 5. Filter compartment 5a. Filter insert 6. Glass jug with lid 7. Display 8. Grinding ﬁneness dial 9. Water tank lid 10. Fill-level indicator 11. Water tank 12. Indicator number of cups 13. Indicator coﬀee strength 14. Indicator coﬀee powder 15. Indicator timer 16. Indicator time 17. Indicator operation (ﬂashing) 17a. Indicator keep warm-function 18. start button with operating lamp 19. Descaling/cleaning of shaft 20. Setting pre-set time 21. Setting the hours 22. Setting the minutes 23. Setting the number of cups 24. Setting coﬀee strength 25. Making coﬀee with coﬀee powder 26. Cancel button Getting started Wipe the device with a clean, damp cloth. Rinse the glass jug (6) and the ﬁlter insert (5a) with a little mild detergent and water. Prior to preparing coﬀee for the ﬁrst time, perform one brew with water only. Fill the freshwater tank up to the top cup marking with cold water. Close the lid. Press to start the appliance. Allow the water to ﬂow through into the coﬀee jug. When brewing is ﬁnished, empty the coﬀee jug. Handling and Operation Setting the time As soon as the appliance is plugged into a socket, the display lighting turns on and the time display 12:00 ﬂashes. The clock has a 24-hour time format. Set the hours by long pressing; For both hours & minutes. 1. Keep the button pressed to set the hours (21). 2. Keep the button pressed to set the minutes (22). The time is saved until a new time is set or the device has been disconnected from the power supply. Filling the water tank 1. Open the water tank lid (9). 2. Pour the quantity of water required for the number of cups you want (maximum 10 cups) into the water tank (11). 3. Close the water tank lid. Adding coﬀee beans 1. Take oﬀ the lid of the coﬀee bean compartment (1). Ensure that the water tank is closed so that no coﬀee beans can fall into the water tank. 2. Fill the coﬀee bean compartment (2) with coﬀee beans. Do not overﬁll. 3. Place the lid back on the coﬀee bean compartment. Setting the Grinding Fineness Move the dial for the grinding ﬁneness (8) to the position you want ﬁne/medium/coarse. When you switch to another grinding strength, there will still be coﬀee powder with the previous grinding strength in the grinder shaft. The grinder shaft may need to be cleaned beforehand. (see chapter Cleaning the Grinder Shaft) Inserting the Filter 1. Open the ﬁlter compartment (5). 2. Insert a paper ﬁlter into the ﬁlter compartment (5a). Close the ﬁlter compartment. It must engage.'}, {'manufacturer': 'AEG', 'product': 'cm6_1_5st', 'language': 'en', 'headerId': 1, 'headerText': 'Preparation', 'headerParagraphText': '', 'subHeaderId': 1, 'SubHeaderText': 'Making coﬀee with coﬀee beans', 'subHeaderParagraphText': '1. Fill the water tank. 2. Fill the coﬀee bean compartment. 3. Set the grinding ﬁneness you want. 4. Open the ﬁlter compartment and insert a paper ﬁlter. Close the ﬁlter compartment. 5. Set the desired number of cups by pressing . 6. Set the desired coﬀee strength with the button . 7. Press the button (18) to switch on the grinder and start the brewing process. 6 1 2 8 3 4 7 9 10 11 5 19 20 21 22 23 24 26 25 16 15 13 12 17 17b 17a 14 18'}, {'manufacturer': 'AEG', 'product': 'cm6_1_5st', 'language': 'en', 'headerId': 4, 'headerText': 'Handling and Operation', 'headerParagraphText': '', 'subHeaderId': 1, 'SubHeaderText': 'Setting the time', 'subHeaderParagraphText': 'As soon as the appliance is plugged into a socket, the display lighting turns on and the time display 12:00 ﬂashes. The clock has a 24-hour time format. Set the hours by long pressing; For both hours & minutes. 1. Keep the button pressed to set the hours (21). 2. Keep the button pressed to set the minutes (22). The time is saved until a new time is set or the device has been disconnected from the power supply.'}, {'manufacturer': 'AEG', 'product': 'cm6_1_5st', 'language': 'en', 'headerId': 4, 'headerText': 'Handling and Operation', 'headerParagraphText': '', 'subHeaderId': 2, 'SubHeaderText': 'Filling the water tank', 'subHeaderParagraphText': '1. Open the water tank lid (9). 2. Pour the quantity of water required for the number of cups you want (maximum 10 cups) into the water tank (11). 3. Close the water tank lid.'}, {'manufacturer': 'AEG', 'product': 'cm6_1_5st', 'language': 'en', 'headerId': 4, 'headerText': 'Handling and Operation', 'headerParagraphText': '', 'subHeaderId': 3, 'SubHeaderText': 'Adding coﬀee beans', 'subHeaderParagraphText': '1. Take oﬀ the lid of the coﬀee bean compartment (1). Ensure that the water tank is closed so that no coﬀee beans can fall into the water tank. 2. Fill the coﬀee bean compartment (2) with coﬀee beans. Do not overﬁll. 3. Place the lid back on the coﬀee bean compartment.'}, {'manufacturer': 'AEG', 'product': 'cm6_1_5st', 'language': 'en', 'headerId': 4, 'headerText': 'Handling and Operation', 'headerParagraphText': '', 'subHeaderId': 4, 'SubHeaderText': 'Setting the Grinding Fineness', 'subHeaderParagraphText': 'Move the dial for the grinding ﬁneness (8) to the position you want ﬁne/medium/coarse. When you switch to another grinding strength, there will still be coﬀee powder with the previous grinding strength in the grinder shaft. The grinder shaft may need to be cleaned beforehand. (see chapter Cleaning the Grinder Shaft)'}, {'manufacturer': 'AEG', 'product': 'cm6_1_5st', 'language': 'en', 'headerId': 4, 'headerText': 'Handling and Operation', 'headerParagraphText': '', 'subHeaderId': 5, 'SubHeaderText': 'Inserting the Filter', 'subHeaderParagraphText': '1. Open the ﬁlter compartment (5). 2. Insert a paper ﬁlter into the ﬁlter compartment (5a). Close the ﬁlter compartment. It must engage. 5a 1. Clean the ﬁlter insert and the glass jug after every use with mild detergent and warm water or in the dishwasher. 2. If necessary, wipe down the coﬀee bean compartment (2) and the lid (1) with a damp cloth. 3. Wipe down the housing with a damp cloth. If necessary, use a little mild detergent to remove more intense soiling.'}, {'manufacturer': 'AEG', 'product': 'cm6_1_5st', 'language': 'en', 'headerId': 4, 'headerText': 'Handling and Operation', 'headerParagraphText': '', 'subHeaderId': 6, 'SubHeaderText': 'Cleaning the Grinder Shaft', 'subHeaderParagraphText': '1. Remove the coﬀee beans from the coﬀee bean compartment (2). (Apart from the few beans that you cannot reach by hand.) 2. Insert a paper ﬁlter into the ﬁlter insert. 3. Press the button (18) to switch on the device. The grinding process will start. 4. Once the rest of the coﬀee beans have been ground - you can tell this from the change in the grinding noise – stop the grinding process by pressing the button (26) again. 5. Take out the coﬀee bean compartment: To do this, turn it a little anticlockwise until it disengages. Lift it oﬀ. 6. Move the grinding ﬁneness dial (8) to the OPEN position. 7. Pull out the top part of the grinder (3) by the small handle. 8. Clean the grinder shaft and the grinder with the cleaning brush that is supplied. 9. Reinsert the top part of the grinder and press it down. Make sure it is in the correct position (arrow marking). Fold the handle down again. 10. Adjust the grinding ﬁneness dial back to a grinding ﬁneness. The grinder is locked again. 11. Place on the coﬀee bean compartment at an angle and turn it clockwise a little until it engages. 12. Open the ﬁlter compartment (5) to remove the paper ﬁlter. 13. To clean the grinder shaft from below: Press the button (19) until the symbol occurs. Press the button (18). The coﬀee powder tunnel gate will open. Open the ﬁlter compartment, use the brush to clean the residue inside, close the ﬁlter compartment, press the button (26) to close the coﬀee powder tunnel gate.'}, {'manufacturer': 'AEG', 'product': 'cm6_1_5st', 'language': 'en', 'headerId': 4, 'headerText': 'Handling and Operation', 'headerParagraphText': '', 'subHeaderId': 7, 'SubHeaderText': 'Descaling', 'subHeaderParagraphText': 'As a precaution we recommend descaling after 60 uses. Use only environmentally friendly descaling agent and always follow the manufacturer´s instructions. Fill the water tank with water and descaling agent. Place the jug with lid on the warming place. Wait 15 minutes then press descaling button and press START to start the appliance. Let the water run through. Perform two more brewing cycles with water only to allow appliance to rinse through properly. If the brewing process is to be aborted prematurely, press the button (26). The operating lamp goes out and the device will abort the brewing process.'}]\n"
     ]
    }
   ],
   "source": [
    "import Code.Clients.client_factory as factory\n",
    "meta = factory.get_meta_client().get_corpusfile_metadata(\"AEG\", \"cm6_1_5st\", \"en\")\n",
    "print(meta)"
   ],
   "metadata": {
    "collapsed": false,
    "pycharm": {
     "name": "#%%\n"
    }
   }
  },
  {
   "cell_type": "code",
   "execution_count": 1,
   "outputs": [
    {
     "name": "stdout",
     "output_type": "stream",
     "text": [
      "['according to your preference', 'Set the hours by long pressing', 'Move the dial for the grinding']\n"
     ]
    }
   ],
   "source": [
    "from Code.Coffeeapp.coffeeapp_api.question_answering import QuestionAnswerer\n",
    "questionanswerer = QuestionAnswerer(language=\"en\",\n",
    "                                    manufacturer=\"AEG\",\n",
    "                                    product_name=\"cm6_1_5st\",\n",
    "                                    questions=\"How do I make preparations?\"\n",
    "                                    )\n",
    "\n",
    "if questionanswerer.is_valid():\n",
    "    questionanswerer.ask()\n",
    "    print(questionanswerer.answers)"
   ],
   "metadata": {
    "collapsed": false,
    "pycharm": {
     "name": "#%%\n"
    }
   }
  },
  {
   "cell_type": "code",
   "execution_count": null,
   "outputs": [],
   "source": [
    "{\n",
    "\"manufacturer\" : \"AEG\",\n",
    "\"product_name\" : \"cm6_1_5st\",\n",
    "\"language\" : \"en\",\n",
    "\"questions\" : \"How do I make preparations?\"\n",
    "}"
   ],
   "metadata": {
    "collapsed": false,
    "pycharm": {
     "name": "#%%\n"
    }
   }
  }
 ],
 "metadata": {
  "kernelspec": {
   "display_name": "Python 3.9.4 ('venv': venv)",
   "language": "python",
   "name": "python3"
  },
  "language_info": {
   "codemirror_mode": {
    "name": "ipython",
    "version": 3
   },
   "file_extension": ".py",
   "mimetype": "text/x-python",
   "name": "python",
   "nbconvert_exporter": "python",
   "pygments_lexer": "ipython3",
   "version": "3.9.4"
  },
  "orig_nbformat": 4,
  "vscode": {
   "interpreter": {
    "hash": "cc26fbb3136c2231caf6499e56405b1cc78f85c5b81cab49fb5f4d50e20b4c74"
   }
  }
 },
 "nbformat": 4,
 "nbformat_minor": 2
}
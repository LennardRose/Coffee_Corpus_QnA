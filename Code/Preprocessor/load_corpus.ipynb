{
 "cells": [
  {
   "cell_type": "code",
   "execution_count": 1,
   "metadata": {
    "pycharm": {
     "name": "#%%\n"
    }
   },
   "outputs": [],
   "source": [
    "import json\n",
    "with open(\"output_preprocessing/corpus.json\") as f:\n",
    "    corpus = json.load(f)"
   ]
  },
  {
   "cell_type": "code",
   "execution_count": null,
   "outputs": [],
   "source": [
    "# corpus = corpus und erstes element wegschmeißen"
   ],
   "metadata": {
    "collapsed": false,
    "pycharm": {
     "name": "#%%\n"
    }
   }
  },
  {
   "cell_type": "code",
   "execution_count": 6,
   "metadata": {
    "pycharm": {
     "name": "#%%\n"
    }
   },
   "outputs": [
    {
     "name": "stdout",
     "output_type": "stream",
     "text": [
      "ecam22110b_magnifica_s_kaffeevollautomat\n",
      "esam46080mb_perfecta_deluxe_kaffeevollautomat\n",
      "ec685w_dedica_siebträger\n",
      "ec885m_dedica_arte\n",
      "esam04120s_magnifica_bean_to_cup_coffee_machines\n",
      "en125s_pixie_nespresso_kaffeemaschine\n",
      "ecz351w_scultura_siebträgermaschine\n",
      "en560w_lattissima_touch_nespresso_coffee_machine\n",
      "eletta_explore_kaffeevollautomat_ecam45055s\n",
      "emkm6b_alicia_plus_moka_kaffeemaschine\n",
      "eci341bk_distinta_siebträger\n",
      "en750mb_lattissima_pro_nespresso_kaffeemaschine\n",
      "ecp3321w_siebträger\n",
      "ecam25033tb_magnifica_s_kaffeevollautomat\n",
      "esam3550b_magnifica_kaffeevollautomat\n",
      "ecam55065ms_primadonna_class_kaffeevollautomat\n",
      "magnifica_start_kaffeevollautomat_ecam22020w\n",
      "ec9155mb_la_specialista_arte_siebträger\n",
      "ecam55655w_primadonna_class_automatic_coffee_maker\n",
      "ecam45766b_eletta_cappuccino_automatic_coffee_maker\n",
      "ecam29031sb_magnifica_evo_kaffeevollautomat\n",
      "ecam21117b\n",
      "ec860_ec_series_manual_espresso_maker\n",
      "ecam65685ms_primadonna_elite_experience_automatic_coffee_maker\n",
      "ec9665m_la_specialista_maestro_siebträger\n",
      "ecam65675ms_ex1_primadonna_elite_kaffeevollautomat\n",
      "etam29510b_autentica_kaffeevollautomat\n",
      "en550bm_lattissima_touch_nespresso_coffee_machine\n",
      "ec680r_dedica_manual_espresso_maker\n",
      "esam3500s_magnifica_kaffeevollautomat\n",
      "en550w_lattissima_nespresso_coffee_machine\n",
      "eci341w_distinta_siebträgermaschine\n",
      "en560b_lattissima_touch_nespresso_kaffeemaschine\n",
      "en650w_gran_lattissima_nespresso_kaffeemaschine\n",
      "ecam29061sb_magnifica_evo_kaffeevollautomat\n",
      "ecz351bk_scultura_manual_espresso_maker\n",
      "en267bae_citiz_nespresso_kaffeemaschine\n",
      "en85b_essenza_mini_nespresso_kaffeemaschine\n",
      "en80b_inissia_nespresso_kaffeemaschine\n",
      "eci341cp_distinta_pump_espresso_coffee_machine\n",
      "eckg6821m_siebträger_und_elektrische_kaffeemühle\n",
      "magnifica_start_kaffeevollautomat_ecam22022gb\n",
      "en550s_lattissima_touch_nespresso_coffee_machine\n",
      "en510w_lattissima_one_nespresso_kaffeemaschine\n",
      "ec9355bm_la_specialista_prestigio_siebträger\n",
      "ecam46860b_eletta_cappuccino_evo_kaffeevollautomat\n",
      "ecam29081tb_magnifica_evo_automatic_espresso_machine\n",
      "esam03120s_ex1_magnifica_kaffeevollautomat\n",
      "icm14011_active_line_filterkaffeemaschine\n",
      "ecz351bg_scultura_siebträger\n",
      "esam03126s_magnifica_kaffeevollautomat\n",
      "ecov311bg_icona_vintage_siebträger\n",
      "ec9355m_la_specialista_prestigio_siebträger\n",
      "en80cw_inissia_nespresso_kaffeemaschine\n",
      "en500b_lattissima_one_nespresso_kaffeemaschine\n",
      "env120bm_vertuonext_nespresso_kaffeemaschine\n",
      "ecam29022b_magnifica_evo_kaffeevollautomat\n",
      "ecam25023sb_magnifica_s_kaffeevollautomat\n",
      "ecam55065sb_primadonna_class_kaffeevollautomat\n",
      "ecz351gy_scultura_pump_espresso_coffee_machine\n",
      "ecam22110w_kaffeevollautomat\n",
      "ec785pk_dedica_metallics_siebträger\n",
      "ecam61075mb_primadonna_soul_kaffeevollautomat\n",
      "icm14011w_active_line_filterkaffeemaschine\n",
      "ecam61055sb_primadonna_soul_kaffeevollautomat\n",
      "ec685m_dedica_siebträger\n",
      "ecov311az_icona_vintage_siebträger\n",
      "esam03105s_magnifica_fully_automatic_coffee_machines\n",
      "eletta_explore_kaffeevollautomat_ecam45076t\n",
      "en124r_pixie_nespresso_kaffeemaschine\n",
      "esam4200s_ex1_magnifica_automatic_coffee_maker\n",
      "etam29666s_autentica_kaffeevollautomat\n",
      "env120w_vertuonext_nespresso_kaffeemaschine\n",
      "ecam37070b_ex4_dinamica_plus_kaffeevollautomat\n",
      "ecam25031sb_magnifica_s_kaffeevollautomat\n",
      "en550r_lattissima_touch_nespresso_coffee_machine\n",
      "ecam29042tb_magnifica_evo_automatic_coffee_maker\n",
      "en124s_pixie_nespresso_kaffeemaschinen\n",
      "ecam55085ms_primadonna_class_kaffeevollautomat\n",
      "kaffeevollautomat\n",
      "esam04320s_magnifica_automatic_coffee_maker\n",
      "ecam21116b_magnifica_s_kaffeevollautomat\n",
      "ec680bk_dedica_manual_espresso_maker\n",
      "en167b_citiz_nespresso_kaffeemaschinen\n",
      "esam3200s_ex1_magnifica_kaffeevollautomat\n",
      "ecam65055ms_primadonna_elite_automatic_coffee_maker\n",
      "etam29660sb_autentica_cappuccino_kaffeevollautomat\n",
      "ec785gy_dedica_metallics_siebträger_inkl_zubehör\n",
      "ec9155w_la_specialista_arte_manual_espresso_maker\n",
      "ecam65675ms_primadonna_elite_automatic_coffee_maker\n",
      "en550b_lattissima_touch_nespresso_coffee_machine\n",
      "env120gy_vertuonext_nespresso_kaffeemaschine\n",
      "ecam37070sb_dinamica_plus_kaffeevollautomat\n",
      "ecam22366s_magnifica_s_automatic_coffee_maker\n",
      "en267wae_citiz_nespresso_kaffeemaschine\n",
      "ecam45760w_eletta_cappuccino_kaffeevollautomat\n",
      "en650b_gran_lattissima_nespresso_kaffeemaschine\n",
      "ecam21118w_magnifica_s_automatic_coffee_maker\n",
      "magnifica_start_kaffeevollautomat_ecam22031sb\n",
      "ecam29233sb_magnifica_evo_kaffeevollautomat\n",
      "ec860m_manual_espresso_maker\n",
      "ecam37095s_dinamica_plus_kaffeevollautomat\n",
      "esam04110b_magnifica_kaffeevollautomat\n",
      "esam04353s_magnifica_bean_to_cup_coffee_machine\n",
      "epam96075glm_maestosa_kaffeevollautomat\n",
      "ec785bg_dedica_metallics_siebträger_inkl_zubehör\n",
      "ecp3531_siebträgermaschine\n",
      "ec685bk_dedica_siebträger\n",
      "ecam37070b_dinamica_plus_kaffeevollautomat\n",
      "ecp3321r_siebträger\n",
      "etam29666t_autentica_kaffeevollautomat\n",
      "en85r_nespresso_kaffeemaschinen\n",
      "ec9335r_la_specialista_siebträger\n",
      "ecam21118b_magnifica_s_kaffeevollautomat\n",
      "ecam37085b_dinamica_plus_kaffeevollautomat\n",
      "eletta_explore_kaffeevollautomat_ecam45257g\n",
      "en167w_citiz_nespresso_kaffeemaschine\n",
      "ecp3121_ec_series_manual_espresso_maker\n",
      "ec235bk_stilosa_siebträger\n",
      "ecov311gr_icona_vintage_siebträger\n",
      "ec9335m_la_specialista_siebträgermaschine\n",
      "en85l_nespresso_kaffeemaschinen\n",
      "ecam65085ms_primadonna_elite_experience_kaffeevollautomat\n",
      "eci341bz_distinta_pump_espresso_coffee_machine\n",
      "ec680m_dedica_manual_espresso_maker\n",
      "ecam45766w_eletta_cappuccino_automatic_coffee_maker\n",
      "esam02110sb_magnifica_automatic_coffee_maker\n",
      "ecam29061b_magnifica_evo_kaffeevollautomat\n",
      "eletta_explore_kaffeevollautomat_ecam45055g\n",
      "ecam29021b_magnifica_evo_automatic_coffee_maker\n",
      "ecov311bk_icona_vintage_siebträger\n",
      "ecam65655ms_primadonna_elite_automatic_coffee_maker\n",
      "en560s_lattissima_touch_nespresso_kaffeemaschine\n",
      "ecam55655sb_primadonna_class_automatic_coffee_maker\n",
      "en500bw_lattissima_one_nespresso_coffee_machine\n",
      "ecam61255sb_primadonna_soul_kaffeevollautomat\n",
      "ecp3321bk_siebträger\n",
      "ecam22110sb_magnifica_s_kaffeevollautomat\n",
      "env120bw_vertuonext_nespresso_kaffeemaschine\n",
      "ecam61074mb_automatischer_primadonna_soul_kaffeevollautomat\n",
      "icm14011r_active_line_filterkaffeemaschine\n",
      "esam4500_magnifica_automatic_coffee_maker\n",
      "ecam44660b_eletta_cappuccino_kaffeevollautomat\n",
      "en510b_lattissima_one_nespresso_kaffeemaschine\n",
      "ecam37095t_dinamica_plus_kaffeevollautomat\n",
      "ecam55675ms_primadonna_class_automatic_coffee_maker\n",
      "ecam45366s_eletta_bean_to_cup_coffee_machines\n",
      "ecam55065w_primadonna_class_kaffeevollautomat\n",
      "ec850m_ec_800_siebträger\n",
      "ecam21116sb_magnifica_s_kaffeevollautomat\n",
      "ecam55075ms_primadonna_class_kaffeevollautomat\n",
      "ec685r_dedica_siebträger\n",
      "esam04350s_magnifica_automatic_coffee_maker\n",
      "esam4008b_magnifica_fully_automatic_coffee_machines\n"
     ]
    }
   ],
   "source": [
    "for lang in corpus[9][\"products\"]:\n",
    "    print(lang['product_id'])"
   ]
  },
  {
   "cell_type": "code",
   "execution_count": 12,
   "metadata": {
    "pycharm": {
     "name": "#%%\n"
    }
   },
   "outputs": [],
   "source": [
    "import Code.Clients.client_factory as factory\n",
    "for entry in corpus:\n",
    "    manufacturer = entry[\"manufacturer\"]\n",
    "    for product in entry[\"products\"]:\n",
    "        p_id = product[\"product_id\"]\n",
    "        for language in product[\"languages\"]: #check\n",
    "            lang = language\n",
    "            for header in product[\"languages\"][language]:\n",
    "                h_id = header[\"headerId\"]\n",
    "                h_text = header[\"headerText\"]\n",
    "                h_paragraph = header[\"paragraphText\"]\n",
    "                for subheader in header[\"headerChildren\"]:\n",
    "                    sh_id = subheader[\"subHeaderId\"]\n",
    "                    sh_text = subheader[\"subHeaderText\"]\n",
    "                    sh_paragraph = subheader[\"paragraphText\"]\n",
    "                    file = {\n",
    "                        \"manufacturer\" : manufacturer,\n",
    "                        \"product\" : p_id,\n",
    "                        \"language\" : lang,\n",
    "                        \"headerId\" : h_id,\n",
    "                        \"headerText\" : h_text,\n",
    "                        \"headerParagraphText\" : h_paragraph,\n",
    "                        \"subHeaderId\" : sh_id,\n",
    "                        \"SubHeaderText\" : sh_text,\n",
    "                        \"subHeaderParagraphText\" : sh_paragraph\n",
    "                    }\n",
    "                    factory.get_meta_client().index_corpusfile_metadata(file)\n",
    "\n",
    "                else:\n",
    "                    file = {\n",
    "                        \"manufacturer_name\" : manufacturer,\n",
    "                        \"product_name\" : p_id,\n",
    "                        \"language\" : lang,\n",
    "                        \"headerId\" : h_id,\n",
    "                        \"headerText\" : h_text,\n",
    "                        \"headerParagraphText\" : h_paragraph,\n",
    "                        \"subHeaderId\" : None,\n",
    "                        \"SubHeaderText\" : None,\n",
    "                        \"subHeaderParagraphText\" : None\n",
    "                    }\n",
    "                    factory.get_meta_client().index_corpusfile_metadata(file)\n",
    "\n",
    "\n",
    "\n",
    "\n"
   ]
  },
  {
   "cell_type": "code",
   "execution_count": null,
   "metadata": {
    "pycharm": {
     "name": "#%%\n"
    }
   },
   "outputs": [],
   "source": [
    "\n"
   ]
  }
 ],
 "metadata": {
  "kernelspec": {
   "display_name": "Python 3.9.4 ('venv': venv)",
   "language": "python",
   "name": "python3"
  },
  "language_info": {
   "codemirror_mode": {
    "name": "ipython",
    "version": 3
   },
   "file_extension": ".py",
   "mimetype": "text/x-python",
   "name": "python",
   "nbconvert_exporter": "python",
   "pygments_lexer": "ipython3",
   "version": "3.9.4"
  },
  "orig_nbformat": 4,
  "vscode": {
   "interpreter": {
    "hash": "cc26fbb3136c2231caf6499e56405b1cc78f85c5b81cab49fb5f4d50e20b4c74"
   }
  }
 },
 "nbformat": 4,
 "nbformat_minor": 2
}
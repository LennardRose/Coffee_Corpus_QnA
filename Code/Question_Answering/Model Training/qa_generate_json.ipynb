{
 "cells": [
  {
   "cell_type": "markdown",
   "source": [
    "Target Format:\n",
    "        {'answers':{\n",
    "            'answer_start': [515],\n",
    "            'text': ['Saint Bernadette Soubirous']\n",
    "        },\n",
    "        'context': 'Architecturally, the school has a Catholic character. Atop the Main Building\\'s gold dome is a golden statue of the Virgin Mary. Immediately in front of the Main Building and facing it, is a copper statue of Christ with arms upraised with the legend \"Venite Ad Me Omnes\". Next to the Main Building is the Basilica of the Sacred Heart. Immediately behind the basilica is the Grotto, a Marian place of prayer and reflection. It is a replica of the grotto at Lourdes, France where the Virgin Mary reputedly appeared to Saint Bernadette Soubirous in 1858. At the end of the main drive (and in a direct line that connects through 3 statues and the Gold Dome), is a simple, modern stone statue of Mary.',\n",
    "         'id': '5733be284776f41900661182',\n",
    "         'question': 'To whom did the Virgin Mary allegedly appear in 1858 in Lourdes France?',\n",
    "         'title': 'University_of_Notre_Dame'\n",
    "        }"
   ],
   "metadata": {
    "collapsed": false,
    "pycharm": {
     "name": "#%% md\n"
    }
   }
  },
  {
   "cell_type": "code",
   "execution_count": 2,
   "metadata": {
    "pycharm": {
     "name": "#%%\n"
    }
   },
   "outputs": [],
   "source": [
    "import json\n",
    "\n",
    "def gen_json(context_id, context, questions, path=\"\"):\n",
    "    \"\"\"Input context and questions and generate json file for SQuAD format.\n",
    "\n",
    "    Parameters\n",
    "    ----------\n",
    "    context : str\n",
    "        Context of the question.\n",
    "    questions : list of str\n",
    "        List of questions.\n",
    "    \"\"\"\n",
    "    for i, q in enumerate(questions):\n",
    "        dic = {\n",
    "            \"data\": {\n",
    "                \"text\": context,\n",
    "                \"question\": q,\n",
    "            }\n",
    "        }\n",
    "\n",
    "        with open(f\"{path}qa_{context_id}_{i}.json\", \"w\") as f:\n",
    "            json.dump(dic, f)    "
   ]
  },
  {
   "attachments": {},
   "cell_type": "markdown",
   "metadata": {
    "pycharm": {
     "name": "#%% md\n"
    }
   },
   "source": [
    "### Context 0"
   ]
  },
  {
   "cell_type": "code",
   "execution_count": 2,
   "metadata": {
    "pycharm": {
     "name": "#%%\n"
    }
   },
   "outputs": [],
   "source": [
    "context_id = 0\n",
    "context = \"The boundary of the region from which no escape is possible is called the event horizon. Although the event horizon has an enormous effect on the fate and circumstances of an object crossing it, according to general relativity it has no locally detectable features.[4] In many ways, a black hole acts like an ideal black body, as it reflects no light.[5][6] Moreover, quantum field theory in curved spacetime predicts that event horizons emit Hawking radiation, with the same spectrum as a black body of a temperature inversely proportional to its mass. This temperature is on the order of billionths of a kelvin for black holes of stellar mass, making it essentially impossible to observe directly.\"\n",
    "questions = [\n",
    "    \"How could black holes be detected?\",\n",
    "    \"What is the event horizon?\",\n",
    "    \"Whats going on?\"\n",
    "]"
   ]
  },
  {
   "cell_type": "code",
   "execution_count": 3,
   "metadata": {
    "pycharm": {
     "name": "#%%\n"
    }
   },
   "outputs": [],
   "source": [
    "gen_json(context_id, context, questions)"
   ]
  },
  {
   "attachments": {},
   "cell_type": "markdown",
   "metadata": {
    "pycharm": {
     "name": "#%% md\n"
    }
   },
   "source": [
    "### Context 1"
   ]
  },
  {
   "cell_type": "code",
   "execution_count": 4,
   "metadata": {
    "pycharm": {
     "name": "#%%\n"
    }
   },
   "outputs": [],
   "source": [
    "context_id = 1\n",
    "context = \"The boundary of the region from which no escape is possible is called the event horizon. Although the event horizon has an enormous effect on the fate and circumstances of an object crossing it, according to general relativity it has no locally detectable features.[4] In many ways, a black hole acts like an ideal black body, as it reflects no light.[5][6] Moreover, quantum field theory in curved spacetime predicts that event horizons emit Hawking radiation, with the same spectrum as a black body of a temperature inversely proportional to its mass. This temperature is on the order of billionths of a kelvin for black holes of stellar mass, making it essentially impossible to observe directly.\"\n",
    "questions = [\n",
    "    \"How could black holes be detected?\",\n",
    "    \"What is the event horizon?\",\n",
    "    \"Whats going on?\"\n",
    "]"
   ]
  },
  {
   "cell_type": "code",
   "execution_count": 5,
   "metadata": {
    "pycharm": {
     "name": "#%%\n"
    }
   },
   "outputs": [],
   "source": [
    "gen_json(context_id, context, questions)"
   ]
  },
  {
   "cell_type": "code",
   "execution_count": 13,
   "outputs": [
    {
     "name": "stdout",
     "output_type": "stream",
     "text": [
      "generated sage031 !\n"
     ]
    }
   ],
   "source": [
    "context_id = \"sage031\"\n",
    "context = \"\"\n",
    "\n",
    "questions = [\"When do I have to clean the machine?\",\n",
    "             \"How do I clean the machine?\"\n",
    "\n",
    "\n",
    "]\n",
    "gen_json(context_id, context, questions, path=\"./generated_training_data/\")\n",
    "print(\"generated \" + context_id + \" !\")"
   ],
   "metadata": {
    "collapsed": false,
    "pycharm": {
     "name": "#%%\n"
    }
   }
  }
 ],
 "metadata": {
  "kernelspec": {
   "display_name": "venv",
   "language": "python",
   "name": "python3"
  },
  "language_info": {
   "codemirror_mode": {
    "name": "ipython",
    "version": 3
   },
   "file_extension": ".py",
   "mimetype": "text/x-python",
   "name": "python",
   "nbconvert_exporter": "python",
   "pygments_lexer": "ipython3",
   "version": "3.9.0"
  },
  "orig_nbformat": 4,
  "vscode": {
   "interpreter": {
    "hash": "49e59d4ada6e0bef851f1d179af60acc08f1f5b34c75111af743fbd623efd472"
   }
  }
 },
 "nbformat": 4,
 "nbformat_minor": 2
}